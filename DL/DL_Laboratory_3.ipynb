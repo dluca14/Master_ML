{
  "cells": [
    {
      "cell_type": "markdown",
      "metadata": {
        "id": "p5e5ilDkXRPk"
      },
      "source": [
        "#Linear regression in PyTorch"
      ]
    },
    {
      "cell_type": "code",
      "execution_count": null,
      "metadata": {},
      "outputs": [],
      "source": [
        "X=torch.arange(-3, 3, 0.1).reshape(-1, 1)\n"
      ]
    },
    {
      "cell_type": "markdown",
      "metadata": {
        "id": "aDjvykjBXWup"
      },
      "source": [
        "To keep things simple, we will construct an artificial dataset\n",
        "according to a linear model with additive noise.\n",
        "Our task will be to recover this model's parameters\n",
        "using the finite set of examples contained in our dataset.\n",
        "We will keep the data low-dimensional so we can visualize it easily.\n",
        "In the following code, we generate a dataset\n",
        "containing $1000$ examples, each consisting of $2$ features\n",
        "sampled from a standard normal distribution.\n",
        "Thus, our synthetic dataset will be a matrix\n",
        "$\\boldsymbol{X}\\in \\mathbb{R}^{1000 \\times 2}$.\n",
        "\n",
        "The true parameters generating our dataset will be\n",
        "$\\boldsymbol{w} = [2, -3.4]^\\top$ and $b = 4.2$,\n",
        "and our synthetic labels will be assigned according\n",
        "to the following linear model with the noise term $\\epsilon$:\n",
        "\n",
        "$$\\boldsymbol{y}= \\boldsymbol{X} \\boldsymbol{w} + b + \\epsilon.$$\n",
        "\n",
        "We can think of $\\epsilon$ as capturing potential\n",
        "measurement errors on the features and labels.\n",
        "We will assume that the standard assumptions hold, and thus\n",
        "that $\\epsilon$ obeys a normal distribution with mean of $0$.\n",
        "To make our problem easy, we will set its standard deviation to $0.01$.\n",
        "The following code generates our synthetic dataset."
      ]
    },
    {
      "cell_type": "code",
      "execution_count": null,
      "metadata": {
        "id": "SGfakW4iY3AW"
      },
      "outputs": [],
      "source": [
        "import torch\n",
        "import matplotlib.pyplot as plt\n",
        "import numpy as np\n",
        "\n",
        "torch.manual_seed(42)\n",
        "np.random.seed(42)"
      ]
    },
    {
      "cell_type": "code",
      "execution_count": null,
      "metadata": {
        "id": "b8zP_h0GXUvO"
      },
      "outputs": [],
      "source": [
        "def synthetic_data(w, b, num_examples):  \n",
        "    \"\"\"Generate y = Xw + b + noise.\"\"\"\n",
        "    X = torch.normal(0, 1, (num_examples, len(w)))\n",
        "    y = X @ w + b\n",
        "    y += torch.normal(0, 0.01, y.shape)\n",
        "    return X, y.reshape(-1, 1)"
      ]
    },
    {
      "cell_type": "code",
      "execution_count": null,
      "metadata": {
        "id": "-POixM0hWhjS"
      },
      "outputs": [],
      "source": [
        "true_w = torch.tensor([2, -3.4])\n",
        "true_b = 4.2\n",
        "features, labels = synthetic_data(true_w, true_b, 1000)"
      ]
    },
    {
      "cell_type": "markdown",
      "metadata": {
        "id": "b4V6ncZpZRUu"
      },
      "source": [
        "Note that each row in `features` consists of a $2$-dimensional data example,\n",
        "and that each row in `labels` consists of a $1$-dimensional label value (a scalar)."
      ]
    },
    {
      "cell_type": "code",
      "execution_count": null,
      "metadata": {
        "colab": {
          "base_uri": "https://localhost:8080/"
        },
        "id": "hRDcwsYWZW_s",
        "outputId": "8a2e3b9b-f44e-40a0-bff4-10d5978b677d"
      },
      "outputs": [
        {
          "name": "stdout",
          "output_type": "stream",
          "text": [
            "Features: tensor([1.9269, 1.4873]) \n",
            "Label: tensor([2.9871])\n"
          ]
        }
      ],
      "source": [
        "print('Features:', features[0], '\\nLabel:', labels[0])"
      ]
    },
    {
      "cell_type": "markdown",
      "metadata": {
        "id": "NjvEhyDGZehq"
      },
      "source": [
        "By generating a scatter plot using the second feature `features[:, 1]` and `labels`,\n",
        "we can clearly observe the linear correlation between the two."
      ]
    },
    {
      "cell_type": "code",
      "execution_count": null,
      "metadata": {
        "colab": {
          "base_uri": "https://localhost:8080/",
          "height": 265
        },
        "id": "GPEPuLzxZdnC",
        "outputId": "1cd95b3f-ec01-44a6-b012-cc57d7be0a2f"
      },
      "outputs": [
        {
          "data": {
            "image/png": "[encoded data removed]",
            "text/plain": [
              "<Figure size 432x288 with 1 Axes>"
            ]
          },
          "metadata": {
            "needs_background": "light"
          },
          "output_type": "display_data"
        }
      ],
      "source": [
        "plt.scatter(features[:, 1].detach().numpy(), labels.detach().numpy(), s=1)\n",
        "plt.show()"
      ]
    },
    {
      "cell_type": "markdown",
      "metadata": {
        "id": "KaHLudHYaZSW"
      },
      "source": [
        "Recall that training models consists of\n",
        "making multiple passes over the dataset,\n",
        "fetching one mini-batch of examples at a time,\n",
        "and using them to update our model.\n",
        "Since this process is so fundamental\n",
        "to training machine learning algorithms,\n",
        "it is worth defining a utility function\n",
        "to shuffle the dataset and access it in mini-batches.\n",
        "\n",
        "In the following code, we define the `data_iter` function to demonstrate one possible implementation of this functionality.\n",
        "The function takes a batch size, a matrix of features,\n",
        "and a vector of labels, yielding mini-batches of the size `batch_size`.\n",
        "Each mini-batch consists of a tuple of features and labels."
      ]
    },
    {
      "cell_type": "code",
      "execution_count": null,
      "metadata": {
        "id": "KxW0ZrRGask-"
      },
      "outputs": [],
      "source": [
        "def data_iter(batch_size, features, labels):\n",
        "    num_examples = len(features)\n",
        "    indices = list(range(num_examples))\n",
        "    # The examples are read at random, in no particular order\n",
        "    np.random.shuffle(indices)\n",
        "    for i in range(0, num_examples, batch_size):\n",
        "        batch_indices = torch.tensor(\n",
        "            indices[i: min(i + batch_size, num_examples)])\n",
        "        yield features[batch_indices], labels[batch_indices]"
      ]
    },
    {
      "cell_type": "markdown",
      "metadata": {
        "id": "y7t75KUobMrW"
      },
      "source": [
        "In general, note that we want to use reasonably sized mini-batches\n",
        "to take advantage of the GPU hardware,\n",
        "which excels at parallelizing operations.\n",
        "Because each example can be fed through our models in parallel,\n",
        "and the gradient of the loss function for each example can also be taken in parallel,\n",
        "GPUs allow us to process hundreds of examples in just little more time\n",
        "than it might take to process a single example.\n",
        "\n",
        "To build some intuition, let us read and print\n",
        "the first small batch of data examples.\n",
        "The shape of the features in each mini-batch tells us\n",
        "both the mini-batch size and the number of input features.\n",
        "Likewise, our mini-batch of labels will have a shape given by `batch_size`.\n"
      ]
    },
    {
      "cell_type": "code",
      "execution_count": null,
      "metadata": {
        "colab": {
          "base_uri": "https://localhost:8080/"
        },
        "id": "YGeoTm1PbqMj",
        "outputId": "c1de4ef8-f940-4402-bf93-bece65eb6d3e"
      },
      "outputs": [
        {
          "name": "stdout",
          "output_type": "stream",
          "text": [
            "tensor([[ 1.1862, -1.2203],\n",
            "        [ 0.1828,  0.6247],\n",
            "        [ 0.3726, -1.9105],\n",
            "        [ 1.2215, -0.3137],\n",
            "        [ 0.2240, -0.7555],\n",
            "        [ 0.3267, -0.8344],\n",
            "        [-0.7585,  0.9420],\n",
            "        [-1.5785,  0.6716],\n",
            "        [ 0.9475,  0.4364],\n",
            "        [-1.3793,  0.6258]]) \n",
            " tensor([[10.7316],\n",
            "        [ 2.4343],\n",
            "        [11.4371],\n",
            "        [ 7.7038],\n",
            "        [ 7.2027],\n",
            "        [ 7.7014],\n",
            "        [-0.5214],\n",
            "        [-1.2277],\n",
            "        [ 4.6104],\n",
            "        [-0.7060]])\n"
          ]
        }
      ],
      "source": [
        "batch_size = 10\n",
        "\n",
        "for X, y in data_iter(batch_size, features, labels):\n",
        "    print(X, '\\n', y)\n",
        "    break"
      ]
    },
    {
      "cell_type": "markdown",
      "metadata": {
        "id": "DqhO0EywbzBv"
      },
      "source": [
        "As we run the iteration, we obtain distinct mini-batches\n",
        "successively, until the entire dataset has been exhausted.\n",
        "While the iteration implemented above is good for didactic purposes,\n",
        "it is inefficient in ways that might get us in trouble on real problems.\n",
        "For example, it requires that we load all the data in memory\n",
        "and that we perform many random memory access.\n",
        "The built-in iterators implemented in a deep learning framework\n",
        "are considerably more efficient, and they can deal\n",
        "with both data stored in files and data fed via data streams."
      ]
    },
    {
      "cell_type": "markdown",
      "metadata": {
        "id": "MRQhai4IdCHt"
      },
      "source": [
        "Rather writing our own iterator,\n",
        "we can call upon the existing API in PyTorch to read the data. We pass in `features` and `labels` as arguments, and specify `batch_size`\n",
        "when instantiating a data iterator object.\n",
        "Besides, the boolean value `is_train`\n",
        "indicates whether or not\n",
        "we want the data iterator object to shuffle the data\n",
        "on each epoch (pass through the dataset)."
      ]
    },
    {
      "cell_type": "code",
      "execution_count": null,
      "metadata": {
        "id": "2QTd5Vw0byK-"
      },
      "outputs": [],
      "source": [
        "def load_array(data_arrays, batch_size, is_train=True): \n",
        "    \"\"\"Construct a PyTorch data iterator.\"\"\"\n",
        "    dataset = torch.utils.data.TensorDataset(*data_arrays)\n",
        "    return torch.utils.data.DataLoader(dataset, batch_size, shuffle=is_train)"
      ]
    },
    {
      "cell_type": "code",
      "execution_count": null,
      "metadata": {
        "id": "KK3A51--d7cU"
      },
      "outputs": [],
      "source": [
        "batch_size = 10\n",
        "data_iter = load_array((features, labels), batch_size)"
      ]
    },
    {
      "cell_type": "markdown",
      "metadata": {
        "id": "pG4yENqxdhjJ"
      },
      "source": [
        "Now, we can use `data_iter` in much the same way as we called\n",
        "the `data_iter()` function above.\n",
        "To verify that it is working, we can read and print\n",
        "the first mini-batch of examples.\n",
        "Comparing with the `data_iter()` function,\n",
        "here we use `iter()` to construct a Python iterator, and use `next()` to obtain the first item from the iterator."
      ]
    },
    {
      "cell_type": "code",
      "execution_count": null,
      "metadata": {
        "colab": {
          "base_uri": "https://localhost:8080/"
        },
        "id": "MAj3YMcdeBVr",
        "outputId": "4da26c97-247e-436f-eb42-879d17370002"
      },
      "outputs": [
        {
          "data": {
            "text/plain": [
              "[tensor([[-1.0838, -0.3889],\n",
              "         [ 0.3267, -0.8344],\n",
              "         [ 1.5921, -0.4162],\n",
              "         [ 1.7685, -0.9858],\n",
              "         [ 1.9138,  0.3378],\n",
              "         [ 1.2358, -2.0371],\n",
              "         [ 0.3120,  0.7174],\n",
              "         [ 0.0879, -1.2415],\n",
              "         [-0.7150, -0.0476],\n",
              "         [ 0.6719,  0.9852]]), tensor([[ 3.3636],\n",
              "         [ 7.7014],\n",
              "         [ 8.8059],\n",
              "         [11.0980],\n",
              "         [ 6.8769],\n",
              "         [13.5980],\n",
              "         [ 2.3910],\n",
              "         [ 8.5881],\n",
              "         [ 2.9337],\n",
              "         [ 2.2025]])]"
            ]
          },
          "execution_count": 10,
          "metadata": {},
          "output_type": "execute_result"
        }
      ],
      "source": [
        "next(iter(data_iter))"
      ]
    },
    {
      "cell_type": "markdown",
      "metadata": {
        "id": "3DMniNeZea6a"
      },
      "source": [
        "In order to implement **linear regression**, we can use PyTorch's predefined layers, which allow us to focus especially\n",
        "on the layers used to construct the model,\n",
        "rather than having to focus on the implementation.\n",
        "We will first define a model variable `net`,\n",
        "which will refer to an instance of the `nn.Sequential` class.\n",
        "The `nn.Sequential` class defines a container\n",
        "for several layers that will be chained together.\n",
        "Given input data, a `nn.Sequential` instance passes it through\n",
        "the first layer, in turn passing the output\n",
        "as the second layer's input, and so forth.\n",
        "In the following example, our model consists of only one layer,\n",
        "so we do not really need `nn.Sequential`.\n",
        "But, since nearly all of our future models\n",
        "will involve multiple layers,\n",
        "we will use it anyway, just to get familiarized with the most standard workflow.\n",
        "\n",
        "Recall that we redefined linear regression as a single-layer neural network.\n",
        "The layer is said to be *fully-connected*,\n",
        "because each of its inputs is connected to each of its outputs\n",
        "by means of a matrix-vector multiplication.\n",
        "\n",
        "In PyTorch, the fully-connected layer is defined in the `nn.Linear` class. Note that we pass two arguments into `nn.Linear`. The first one specifies the input feature dimension, which is $2$, and the second one is the output feature dimension, which is a single scalar, and therefore $1$."
      ]
    },
    {
      "cell_type": "code",
      "execution_count": null,
      "metadata": {
        "id": "euRT71v-ffdb"
      },
      "outputs": [],
      "source": [
        "# `nn` is an abbreviation for neural networks\n",
        "from torch import nn\n",
        "\n",
        "net = nn.Sequential(nn.Linear(2, 1))"
      ]
    },
    {
      "cell_type": "markdown",
      "metadata": {
        "id": "wqBDqfj-fog3"
      },
      "source": [
        "Before using `net`, we need to initialize the model parameters,\n",
        "such as the weights and bias in the linear regression model.\n",
        "Deep learning frameworks often have a predefined way to initialize the parameters.\n",
        "Here, we specify that each weight parameter\n",
        "should be randomly sampled from a normal distribution\n",
        "with mean $0$ and standard deviation $0.01$.\n",
        "The bias parameter will be initialized to $0$.\n",
        "\n",
        "As we have specified the input and output dimensions when constructing `nn.Linear`,\n",
        "now we can access the parameters directly, to specify their initial values.\n",
        "We first locate the layer by `net[0]`, which is the first layer in the network,\n",
        "and then use the `weight.data` and `bias.data` attributes to access the parameters.\n",
        "Next, we use the replace methods `normal_()` and `fill_()` to overwrite parameter values. In PyTorch, methods that end with `_` do the corresponding operation in place."
      ]
    },
    {
      "cell_type": "code",
      "execution_count": null,
      "metadata": {
        "colab": {
          "base_uri": "https://localhost:8080/"
        },
        "id": "DfLn2erlgOso",
        "outputId": "737ba495-f0e5-423d-bd4e-3bec9323a9e7"
      },
      "outputs": [
        {
          "data": {
            "text/plain": [
              "tensor([0.])"
            ]
          },
          "execution_count": 12,
          "metadata": {},
          "output_type": "execute_result"
        }
      ],
      "source": [
        "net[0].weight.data.normal_(0, 0.01)\n",
        "net[0].bias.data.fill_(0)"
      ]
    },
    {
      "cell_type": "markdown",
      "metadata": {
        "id": "WNqZGE2pj0Dp"
      },
      "source": [
        "The `nn.MSELoss` class computes the *mean squared error* (without the $1/2$ factor).\n",
        "By default, it returns the average loss over examples.\n"
      ]
    },
    {
      "cell_type": "code",
      "execution_count": null,
      "metadata": {
        "id": "tgtyMDWPj_vA"
      },
      "outputs": [],
      "source": [
        "loss = nn.MSELoss()"
      ]
    },
    {
      "cell_type": "markdown",
      "metadata": {
        "id": "jXOsYgBDkE7c"
      },
      "source": [
        "Mini-batch stochastic gradient descent is a standard tool\n",
        "for optimizing neural networks,\n",
        "and thus PyTorch supports it, alongside a number of\n",
        "variations of this algorithm, in the `optim` module.\n",
        "When we instantiate an `SGD` instance, we will specify the parameters to optimize over\n",
        "(obtainable from our `net` via `net.parameters()`), with a dictionary of hyperparameters\n",
        "required by our optimization algorithm.\n",
        "Mini-batch stochastic gradient descent just requires that\n",
        "we set the value `lr`, which is set to $0.03$ here."
      ]
    },
    {
      "cell_type": "code",
      "execution_count": null,
      "metadata": {
        "id": "voAGJZNVkXdk"
      },
      "outputs": [],
      "source": [
        "optimizer = torch.optim.SGD(net.parameters(), lr=0.03)"
      ]
    },
    {
      "cell_type": "markdown",
      "metadata": {
        "id": "PINYtLmxkgaJ"
      },
      "source": [
        "Expressing our model through\n",
        "high-level APIs of a deep learning framework\n",
        "requires relatively few lines of code.\n",
        "We do not have to individually allocate parameters,\n",
        "define our loss function, or implement mini-batch stochastic gradient descent.\n",
        "Once we start working with much more complex models,\n",
        "advantages of high-level APIs will grow considerably.\n",
        "\n",
        "Now, all we have left to do is define the training loop: for some number of epochs,\n",
        "we will make a complete pass over the dataset (`data_iter`),\n",
        "iteratively fetching one mini-batch of inputs\n",
        "and the corresponding ground-truth labels.\n",
        "For each mini-batch, we go through the following steps:\n",
        "\n",
        "* Generate predictions by calling `net(X)` and calculate the loss `l` between the predictions and the labels `y` (the *forward propagation*).\n",
        "* Calculate gradients by running the *backpropagation*, using the `backward()` function on the loss. To prevent PyTorch from accumulating gradients, which it does by default, we have to call the `zero_grad()` function on the optimizer, before the call to `backward()`.\n",
        "* Update the model parameters by invoking our *optimizer*, using the `step()` function on the optimizer.\n",
        "\n",
        "We compute the loss after each epoch and print it to monitor progress."
      ]
    },
    {
      "cell_type": "code",
      "execution_count": null,
      "metadata": {
        "colab": {
          "base_uri": "https://localhost:8080/"
        },
        "id": "AGcry8OElQX_",
        "outputId": "b81eebf2-a481-461f-bd23-45d7933a8026"
      },
      "outputs": [
        {
          "name": "stdout",
          "output_type": "stream",
          "text": [
            "Epoch 1, Loss 0.000353\n",
            "Epoch 2, Loss 0.000103\n",
            "Epoch 3, Loss 0.000101\n"
          ]
        }
      ],
      "source": [
        "num_epochs = 3\n",
        "for epoch in range(num_epochs):\n",
        "    for X, y in data_iter:\n",
        "        l = loss(net(X), y)\n",
        "        optimizer.zero_grad()\n",
        "        l.backward()\n",
        "        optimizer.step()\n",
        "    l = loss(net(features), labels)\n",
        "    print(f'Epoch {epoch + 1}, Loss {l:f}')"
      ]
    },
    {
      "cell_type": "markdown",
      "metadata": {
        "id": "fNZgnR6-lf7Q"
      },
      "source": [
        "Below, we compare the model parameters learned by training on finite data\n",
        "and the actual parameters that generated our dataset.\n",
        "To access parameters,\n",
        "we first access the layer that we need from `net`,\n",
        "and then access that layer's weights and bias.\n",
        "Note that our estimated parameters are\n",
        "close to their ground-truth counterparts.\n"
      ]
    },
    {
      "cell_type": "code",
      "execution_count": null,
      "metadata": {
        "colab": {
          "base_uri": "https://localhost:8080/"
        },
        "id": "JuyZHgDElpGb",
        "outputId": "e2addbd8-4c88-4e2b-f54c-b5a55e537497"
      },
      "outputs": [
        {
          "name": "stdout",
          "output_type": "stream",
          "text": [
            "Error in estimating w: tensor([-0.0002,  0.0008])\n",
            "Error in estimating b: tensor([-0.0007])\n"
          ]
        }
      ],
      "source": [
        "w = net[0].weight.data\n",
        "print('Error in estimating w:', true_w - w.reshape(true_w.shape))\n",
        "b = net[0].bias.data\n",
        "print('Error in estimating b:', true_b - b)"
      ]
    },
    {
      "cell_type": "markdown",
      "metadata": {
        "id": "eIJMLKdBn0Gm"
      },
      "source": [
        "#The FashionMNIST dataset"
      ]
    },
    {
      "cell_type": "markdown",
      "metadata": {
        "id": "7K-ffLrzn3b9"
      },
      "source": [
        "One of the most widely used datasets for image classification is the  MNIST dataset.\n",
        "While it had a good history as a benchmark dataset,\n",
        "even simple models by today's standards achieve classification accuracy over $95\\%$ on it,\n",
        "making it unsuitable for distinguishing between stronger models and weaker ones.\n",
        "Today, MNIST serves as more of a sanity check than as a benchmark.\n",
        "Thus, we will focus our discussion in the following\n",
        "on the qualitatively similar, but comparatively more complex Fashion-MNIST\n",
        "dataset, which was released in 2017.\n",
        "\n",
        "We can download and read the Fashion-MNIST dataset into memory via the build-in functions in PyTorch."
      ]
    },
    {
      "cell_type": "code",
      "execution_count": null,
      "metadata": {
        "colab": {
          "base_uri": "https://localhost:8080/",
          "height": 422,
          "referenced_widgets": [
            "63931c95c7cc4c8b9d00a157d4b9b771",
            "0f901a8b182b4c2598b390e46ec53ecd",
            "24a5244d4f404995891efd5f7f0356de",
            "c5ccf1c511ee4460b0856d9f710f2f05",
            "5c6ea3498105439d890356fd630e6275",
            "f7e1eb95751040d981610222b78cf0b4",
            "33dddafdbe184793a2e80fcf0614b2e3",
            "d7aa9ca7f59a40389bd1c675e62ae037",
            "8dc190f4194643db82db36be40cbc165",
            "279e827ca3fa4ed5bd5057a4ae0a0e25",
            "5d8c926a5b864292817616a9ebb20d1e",
            "84dfc3befc304d5b9bf6e9e65f2e1178",
            "ab7d28e630a64ffa8f4e5e1d24d44757",
            "27f30aa2f08048cb86dd36ab6d70d79a",
            "fb440a440eb94a849ae94c52c37f1fb6",
            "7646c234a07843a5b5b0c137712b99e7",
            "f7ca98f56d9f4fdf92b36fbbbf1b7ec8",
            "682a022f7e0f458daba5e9b1dbf96cb1",
            "f26f3b02e09744b7b4c082d3bac94217",
            "a18ffed350244b53b491dee79102283b",
            "6b70be8fcc9f4028b594d9f3f2c17fc3",
            "56af5ee8e989465c85b1dfc9a606b547",
            "4f82ce08c73847208952dd17b95869ae",
            "ab16f754956c488aad6545edf6a99d3f",
            "66d7396f246b43aba17c22fcfc221bc8",
            "5c91f197ead44c77b215d26d10c580b7",
            "e72654a8db5f4cb881547d335830e7ad",
            "cf9526807c6540afba9b6c73ea0908ef",
            "069cd7328c0143b8b92966b3716ced95",
            "a0f3d72729984f749da18c61ed5a469d",
            "912f236fe951485b9dbd0b5e28415103",
            "4dca9a5d99ba42398ae798fb6432e05a",
            "332987e580754b1599c3f68db2097325",
            "e617322c2b4a41a5813867bb1ac7cfe9",
            "f0e2ff5c0c7b4d6e9abc89904d85818b",
            "30379b27e0ee48958150b8a248b435b5",
            "bdc3fb88f113424c94121b98d1165714",
            "2b890e70ae804171b14dcc45d7203249",
            "b0b5bfe3879a4aa7967fe954efc650bb",
            "ed1a57fe0d85474d97928d02ac234a81",
            "62ea03515b1644639ec13d43227b43b3",
            "10c870bda1a5431b858ed7ce21cd3ee9",
            "0ca5a707008c4253b9b6c285cece554d",
            "b3a0ceeac2e948748d78fce884b7e06d"
          ]
        },
        "id": "1RSMhGgmolZs",
        "outputId": "768752eb-ccb6-4062-b561-a8c470696123"
      },
      "outputs": [
        {
          "name": "stdout",
          "output_type": "stream",
          "text": [
            "Downloading http://fashion-mnist.s3-website.eu-central-1.amazonaws.com/train-images-idx3-ubyte.gz\n",
            "Downloading http://fashion-mnist.s3-website.eu-central-1.amazonaws.com/train-images-idx3-ubyte.gz to ../data/FashionMNIST/raw/train-images-idx3-ubyte.gz\n"
          ]
        },
        {
          "data": {
            "application/vnd.jupyter.widget-view+json": {
              "model_id": "63931c95c7cc4c8b9d00a157d4b9b771",
              "version_major": 2,
              "version_minor": 0
            },
            "text/plain": [
              "  0%|          | 0/26421880 [00:00<?, ?it/s]"
            ]
          },
          "metadata": {},
          "output_type": "display_data"
        },
        {
          "name": "stdout",
          "output_type": "stream",
          "text": [
            "Extracting ../data/FashionMNIST/raw/train-images-idx3-ubyte.gz to ../data/FashionMNIST/raw\n",
            "\n",
            "Downloading http://fashion-mnist.s3-website.eu-central-1.amazonaws.com/train-labels-idx1-ubyte.gz\n",
            "Downloading http://fashion-mnist.s3-website.eu-central-1.amazonaws.com/train-labels-idx1-ubyte.gz to ../data/FashionMNIST/raw/train-labels-idx1-ubyte.gz\n"
          ]
        },
        {
          "data": {
            "application/vnd.jupyter.widget-view+json": {
              "model_id": "84dfc3befc304d5b9bf6e9e65f2e1178",
              "version_major": 2,
              "version_minor": 0
            },
            "text/plain": [
              "  0%|          | 0/29515 [00:00<?, ?it/s]"
            ]
          },
          "metadata": {},
          "output_type": "display_data"
        },
        {
          "name": "stdout",
          "output_type": "stream",
          "text": [
            "Extracting ../data/FashionMNIST/raw/train-labels-idx1-ubyte.gz to ../data/FashionMNIST/raw\n",
            "\n",
            "Downloading http://fashion-mnist.s3-website.eu-central-1.amazonaws.com/t10k-images-idx3-ubyte.gz\n",
            "Downloading http://fashion-mnist.s3-website.eu-central-1.amazonaws.com/t10k-images-idx3-ubyte.gz to ../data/FashionMNIST/raw/t10k-images-idx3-ubyte.gz\n"
          ]
        },
        {
          "data": {
            "application/vnd.jupyter.widget-view+json": {
              "model_id": "4f82ce08c73847208952dd17b95869ae",
              "version_major": 2,
              "version_minor": 0
            },
            "text/plain": [
              "  0%|          | 0/4422102 [00:00<?, ?it/s]"
            ]
          },
          "metadata": {},
          "output_type": "display_data"
        },
        {
          "name": "stdout",
          "output_type": "stream",
          "text": [
            "Extracting ../data/FashionMNIST/raw/t10k-images-idx3-ubyte.gz to ../data/FashionMNIST/raw\n",
            "\n",
            "Downloading http://fashion-mnist.s3-website.eu-central-1.amazonaws.com/t10k-labels-idx1-ubyte.gz\n",
            "Downloading http://fashion-mnist.s3-website.eu-central-1.amazonaws.com/t10k-labels-idx1-ubyte.gz to ../data/FashionMNIST/raw/t10k-labels-idx1-ubyte.gz\n"
          ]
        },
        {
          "data": {
            "application/vnd.jupyter.widget-view+json": {
              "model_id": "e617322c2b4a41a5813867bb1ac7cfe9",
              "version_major": 2,
              "version_minor": 0
            },
            "text/plain": [
              "  0%|          | 0/5148 [00:00<?, ?it/s]"
            ]
          },
          "metadata": {},
          "output_type": "display_data"
        },
        {
          "name": "stdout",
          "output_type": "stream",
          "text": [
            "Extracting ../data/FashionMNIST/raw/t10k-labels-idx1-ubyte.gz to ../data/FashionMNIST/raw\n",
            "\n"
          ]
        }
      ],
      "source": [
        "import torchvision\n",
        "from torchvision import transforms\n",
        "\n",
        "# `ToTensor()` converts the image data from PIL type to 32-bit floating point\n",
        "# tensors. It also divides all numbers by 255, so that all pixel values are between\n",
        "# 0 and 1\n",
        "trans = transforms.ToTensor()\n",
        "mnist_train = torchvision.datasets.FashionMNIST(\n",
        "    root=\"../data\", train=True, transform=trans, download=True)\n",
        "mnist_test = torchvision.datasets.FashionMNIST(\n",
        "    root=\"../data\", train=False, transform=trans, download=True)"
      ]
    },
    {
      "cell_type": "markdown",
      "metadata": {
        "id": "ML9X9ssooz6K"
      },
      "source": [
        "Fashion-MNIST consists of images from $10$ categories, each represented\n",
        "by $6000$ images in the training dataset and by $1000$ in the test dataset.\n",
        "The *test dataset* (or *test set*) is used for evaluating  model performance and not for training.\n",
        "Consequently, the training set and the test set\n",
        "contain $60000$ and $10000$ images, respectively."
      ]
    },
    {
      "cell_type": "code",
      "execution_count": null,
      "metadata": {
        "colab": {
          "base_uri": "https://localhost:8080/"
        },
        "id": "fGqh4272pAk-",
        "outputId": "5c9844ae-22a5-4367-f185-3e9f09ebe402"
      },
      "outputs": [
        {
          "data": {
            "text/plain": [
              "(60000, 10000)"
            ]
          },
          "execution_count": 18,
          "metadata": {},
          "output_type": "execute_result"
        }
      ],
      "source": [
        "len(mnist_train), len(mnist_test)"
      ]
    },
    {
      "cell_type": "markdown",
      "metadata": {
        "id": "SUCEEULzpDok"
      },
      "source": [
        "The height and width of each input image are both $28$ pixels.\n",
        "Note that the dataset consists of grayscale images, whose number of channels is $1$.\n",
        "For brevity, we store the shape of any image with a height of $h$ pixels and a width of $w$ pixels as $h \\times w$ or ($h$, $w$)."
      ]
    },
    {
      "cell_type": "code",
      "execution_count": null,
      "metadata": {
        "colab": {
          "base_uri": "https://localhost:8080/"
        },
        "id": "n5an2FMRpWcF",
        "outputId": "838f88a0-eae7-49c6-c16f-d84283dc036e"
      },
      "outputs": [
        {
          "data": {
            "text/plain": [
              "torch.Size([1, 28, 28])"
            ]
          },
          "execution_count": 19,
          "metadata": {},
          "output_type": "execute_result"
        }
      ],
      "source": [
        "mnist_train[0][0].shape"
      ]
    },
    {
      "cell_type": "markdown",
      "metadata": {
        "id": "WsQ6f_2Hpf6y"
      },
      "source": [
        "The images in Fashion-MNIST are associated with the following categories:\n",
        "t-shirt, trousers, pullover, dress, coat, sandal, shirt, sneaker, bag, and ankle boot.\n",
        "The following function converts between numeric label indices and their names in text."
      ]
    },
    {
      "cell_type": "code",
      "execution_count": null,
      "metadata": {
        "id": "owWG8fRqpjeq"
      },
      "outputs": [],
      "source": [
        "def get_fashion_mnist_labels(labels):\n",
        "    \"\"\"Return text labels for the Fashion-MNIST dataset.\"\"\"\n",
        "    text_labels = ['t-shirt', 'trouser', 'pullover', 'dress', 'coat',\n",
        "                   'sandal', 'shirt', 'sneaker', 'bag', 'ankle boot']\n",
        "    return [text_labels[int(i)] for i in labels]"
      ]
    },
    {
      "cell_type": "markdown",
      "metadata": {
        "id": "N4cX90fspqDU"
      },
      "source": [
        "We can now create a function to visualize these examples."
      ]
    },
    {
      "cell_type": "code",
      "execution_count": null,
      "metadata": {
        "id": "kGC9I6RkppVA"
      },
      "outputs": [],
      "source": [
        "def show_images(imgs, num_rows, num_cols, titles=None, scale=1.5):\n",
        "    \"\"\"Plot a list of images.\"\"\"\n",
        "    figsize = (num_cols * scale, num_rows * scale)\n",
        "    _, axes = plt.subplots(num_rows, num_cols, figsize=figsize)\n",
        "    plt.tight_layout()\n",
        "    axes = axes.flatten()\n",
        "    for i, (ax, img) in enumerate(zip(axes, imgs)):\n",
        "        if torch.is_tensor(img):\n",
        "            # Tensor Image\n",
        "            ax.imshow(img.numpy())\n",
        "        else:\n",
        "            # PIL Image\n",
        "            ax.imshow(img)\n",
        "        ax.axes.get_xaxis().set_visible(False)\n",
        "        ax.axes.get_yaxis().set_visible(False)\n",
        "        if titles:\n",
        "            ax.set_title(titles[i])\n",
        "    return axes"
      ]
    },
    {
      "cell_type": "markdown",
      "metadata": {
        "id": "ByF0gjeYp0ro"
      },
      "source": [
        "Here are the images and their corresponding labels (in text)\n",
        "for the first few examples in the training dataset."
      ]
    },
    {
      "cell_type": "code",
      "execution_count": null,
      "metadata": {
        "colab": {
          "base_uri": "https://localhost:8080/",
          "height": 218
        },
        "id": "-et9_xY9pz7z",
        "outputId": "885aebcc-d4b3-4a86-f93a-dafa75b1df2e"
      },
      "outputs": [
        {
          "data": {
            "image/png": "[encoded data removed]",
            "text/plain": [
              "<Figure size 972x216 with 18 Axes>"
            ]
          },
          "metadata": {
            "needs_background": "light"
          },
          "output_type": "display_data"
        }
      ],
      "source": [
        "X, y = next(iter(torch.utils.data.DataLoader(mnist_train, batch_size=18)))\n",
        "show_images(X.reshape(18, 28, 28), 2, 9, titles=get_fashion_mnist_labels(y));"
      ]
    },
    {
      "cell_type": "markdown",
      "metadata": {
        "id": "ViDnyJIkqLPz"
      },
      "source": [
        "To make our life easier when reading from the training and test sets,\n",
        "we use the built-in data iterator, rather than creating one from scratch.\n",
        "Recall that, at each iteration, a data iterator\n",
        "reads a mini-batch of data with size `batch_size` each time.\n",
        "We also randomly shuffle the examples for the training data iterator."
      ]
    },
    {
      "cell_type": "code",
      "execution_count": null,
      "metadata": {
        "id": "OXDViUAvqT5x"
      },
      "outputs": [],
      "source": [
        "batch_size = 256\n",
        "\n",
        "# Use 2 processes to read the data.\n",
        "train_iter = torch.utils.data.DataLoader(mnist_train, batch_size, shuffle=True,\n",
        "                             num_workers=2)"
      ]
    },
    {
      "cell_type": "markdown",
      "metadata": {
        "id": "iellQyf_qzNf"
      },
      "source": [
        "Now we define the `load_data_fashion_mnist()` function\n",
        "that obtains and reads the Fashion-MNIST dataset.\n",
        "It returns the data iterators for the training set, the validation set, and the test set. It uses the `random_split()` method to split the initial training set into the actual training set, having `50000` instances, and the validation set, having the remaining `10000` instances. In order to ensure reproducibility, we also specify a generator with a fixed seed. In addition, the `load_data_fashion_mnist()` function accepts an optional argument to resize images to another shape."
      ]
    },
    {
      "cell_type": "code",
      "execution_count": null,
      "metadata": {
        "id": "O84zoHHqq9ix"
      },
      "outputs": [],
      "source": [
        "def load_data_fashion_mnist(batch_size, resize=None):\n",
        "    \"\"\"Download the Fashion-MNIST dataset and then load it into memory.\"\"\"\n",
        "    trans = [transforms.ToTensor()]\n",
        "    if resize:\n",
        "        trans.insert(0, transforms.Resize(resize))\n",
        "    trans = transforms.Compose(trans)\n",
        "    mnist_train = torchvision.datasets.FashionMNIST(\n",
        "        root=\"../data\", train=True, transform=trans, download=True)\n",
        "    mnist_test = torchvision.datasets.FashionMNIST(\n",
        "        root=\"../data\", train=False, transform=trans, download=True)\n",
        "    mnist_train, mnist_val = torch.utils.data.random_split(mnist_train, [50000, 10000],\n",
        "                                                           generator=torch.Generator().manual_seed(42))\n",
        "    return (torch.utils.data.DataLoader(mnist_train, batch_size, shuffle=True,\n",
        "                            num_workers=2),\n",
        "            torch.utils.data.DataLoader(mnist_val, batch_size, shuffle=False,\n",
        "                            num_workers=2),\n",
        "            torch.utils.data.DataLoader(mnist_test, batch_size, shuffle=False,\n",
        "                            num_workers=2))"
      ]
    },
    {
      "cell_type": "markdown",
      "metadata": {
        "id": "TaUlp0RRrQz9"
      },
      "source": [
        "Below, we test the image resizing feature of the `load_data_fashion_mnist()` function\n",
        "by specifying the `resize` argument."
      ]
    },
    {
      "cell_type": "code",
      "execution_count": null,
      "metadata": {
        "colab": {
          "base_uri": "https://localhost:8080/"
        },
        "id": "SMjBlYaOrUkt",
        "outputId": "99b61230-1bf8-424a-c229-e8c6c755bb41"
      },
      "outputs": [
        {
          "name": "stdout",
          "output_type": "stream",
          "text": [
            "torch.Size([32, 1, 64, 64]) torch.float32 torch.Size([32]) torch.int64\n"
          ]
        }
      ],
      "source": [
        "train_iter, val_iter, test_iter = load_data_fashion_mnist(32, resize=64)\n",
        "for X, y in train_iter:\n",
        "    print(X.shape, X.dtype, y.shape, y.dtype)\n",
        "    break"
      ]
    },
    {
      "cell_type": "markdown",
      "metadata": {
        "id": "ra7wIomjrZ25"
      },
      "source": [
        "We are now ready to work with the Fashion-MNIST dataset."
      ]
    },
    {
      "cell_type": "markdown",
      "metadata": {
        "id": "a7jGgNWyz5EQ"
      },
      "source": [
        "#Softmax regression in PyTorch"
      ]
    },
    {
      "cell_type": "markdown",
      "metadata": {
        "id": "QCz-Kd8Pra73"
      },
      "source": [
        "Next, we will implement **softmax regression** in PyTorch. We will work with the Fashion-MNIST dataset, setting up data iterators with batch size $256$."
      ]
    },
    {
      "cell_type": "code",
      "execution_count": null,
      "metadata": {
        "id": "anC-JI9vu270"
      },
      "outputs": [],
      "source": [
        "batch_size = 256\n",
        "train_iter, val_iter, test_iter = load_data_fashion_mnist(batch_size)"
      ]
    },
    {
      "cell_type": "markdown",
      "metadata": {
        "id": "5yRw3qkMvEel"
      },
      "source": [
        "As for linear regression,\n",
        "each example here will be represented by a fixed-length vector.\n",
        "Each example in the raw dataset is a $28 \\times 28$ image.\n",
        "Here, we will flatten each image,\n",
        "treating them as vectors of length $784$.\n",
        "Thus, we treat each pixel location as just another feature.\n",
        "\n",
        "Recall that, in softmax regression,\n",
        "we have as many outputs as there are classes.\n",
        "Because our dataset has $10$ classes,\n",
        "our network will have an output dimension of $10$.\n",
        "Consequently, our weights will constitute a $784 \\times 10$ matrix,\n",
        "and the biases will constitute a $1 \\times 10$ row vector.\n",
        "\n",
        "Recall also that the output layer of softmax regression\n",
        "is a fully-connected layer. Therefore, to implement our model,\n",
        "we just need to add one fully-connected layer\n",
        "with $10$ outputs to a `nn.Sequential` class.\n",
        "Because the inputs are given in the dataset as a $3$-dimensional tensor, we have to reshape them to a $2$-dimensional tensor, which is the only type of tensor fully-connected layers can manipulate. We do this by adding the `nn.Flatten` layer before the fully-connected layer. \n",
        "\n",
        "Again, we initialize the weights at random\n",
        "with zero mean and standard deviation $0.01$."
      ]
    },
    {
      "cell_type": "code",
      "execution_count": null,
      "metadata": {
        "colab": {
          "base_uri": "https://localhost:8080/"
        },
        "id": "byceM65rvmNu",
        "outputId": "20afdaac-1808-4dc8-c264-ba4866da4ae7"
      },
      "outputs": [
        {
          "data": {
            "text/plain": [
              "Sequential(\n",
              "  (0): Flatten(start_dim=1, end_dim=-1)\n",
              "  (1): Linear(in_features=784, out_features=10, bias=True)\n",
              ")"
            ]
          },
          "execution_count": 27,
          "metadata": {},
          "output_type": "execute_result"
        }
      ],
      "source": [
        "# PyTorch does not implicitly reshape the inputs. Thus, we define the flatten\n",
        "# layer to reshape the inputs before the linear layer in our network.\n",
        "net = nn.Sequential(nn.Flatten(), nn.Linear(784, 10))\n",
        "\n",
        "def init_weights(m):\n",
        "    if type(m) == nn.Linear:\n",
        "        nn.init.normal_(m.weight, std=0.01)\n",
        "\n",
        "net.apply(init_weights)"
      ]
    },
    {
      "cell_type": "markdown",
      "metadata": {
        "id": "Ibm9u7s3ObRS"
      },
      "source": [
        "Notice that we do not add a softmax layer to our network. In PyTorch, instead of passing softmax probabilities into the loss function, we will just\n",
        "pass the logits, and compute the softmax and its logarithm\n",
        "all at once inside the *cross-entropy loss* function,\n",
        "which uses different computational tricks to avoid numerical instability issues."
      ]
    },
    {
      "cell_type": "code",
      "execution_count": null,
      "metadata": {
        "id": "z2JBzvt0OanK"
      },
      "outputs": [],
      "source": [
        "loss = nn.CrossEntropyLoss()"
      ]
    },
    {
      "cell_type": "markdown",
      "metadata": {
        "id": "-dcwR8zbPBkZ"
      },
      "source": [
        "Here, we use mini-batch stochastic gradient descent\n",
        "with a learning rate of $0.1$ as the optimization algorithm.\n",
        "Note that this is the same as we applied in the linear regression example,\n",
        "and it illustrates the general applicability of the optimizers."
      ]
    },
    {
      "cell_type": "code",
      "execution_count": null,
      "metadata": {
        "id": "wNQtMjYvPK3m"
      },
      "outputs": [],
      "source": [
        "lr = 0.1\n",
        "optimizer = torch.optim.SGD(net.parameters(), lr=lr)"
      ]
    },
    {
      "cell_type": "markdown",
      "metadata": {
        "id": "wV3Dx9jfs9Cs"
      },
      "source": [
        "Given the predicted probability distribution `y_hat`,\n",
        "we typically choose the class with the highest predicted probability,\n",
        "whenever we must output a hard prediction.\n",
        "Indeed, many applications require that we make a choice.\n",
        "Gmail must categorize an email into \"Primary\", \"Social\", \"Updates\", or \"Forums\".\n",
        "It might estimate probabilities internally,\n",
        "but, at the end of the day, it has to choose one among the classes.\n",
        "\n",
        "When predictions are consistent with the label class `y`, they are correct.\n",
        "The classification accuracy is the fraction of all predictions that are correct.\n",
        "Although it can be difficult to optimize accuracy directly (it is not differentiable),\n",
        "it is often the performance measure that we care most about,\n",
        "and we will nearly always report it when training classifiers.\n",
        "\n",
        "To compute accuracy we do the following.\n",
        "First, if `y_hat` is a matrix,\n",
        "we assume that the second dimension stores prediction scores for each class.\n",
        "We use `argmax()` to obtain the predicted class by the index for the largest entry in each row.\n",
        "Then, we compare the predicted class with the ground-truth `y` elementwise.\n",
        "Since the equality operator `==` is sensitive to data types,\n",
        "we convert `y_hat`'s data type to match that of `y`.\n",
        "The result is a tensor containing entries of $0$ (false) and $1$ (true).\n",
        "Taking the sum yields the number of correct predictions. We can evaluate the accuracy for any model `net` on a dataset that is accessed via the data iterator `data_iter`. We use the variables `total_hits` and `total_samples` for storing the number of correct predictions and the number of predictions, respectively. Both will be accumulated over time as we iterate over the dataset. We also accumulate the total loss in the `total_loss` variable, and we return the mean loss by dividing by the number of batches `len(data_iter)`, because each individual loss is computed batchwise."
      ]
    },
    {
      "cell_type": "code",
      "execution_count": null,
      "metadata": {
        "id": "rPfCYrx7YkHH"
      },
      "outputs": [],
      "source": [
        "def evaluate_accuracy(net, data_iter):\n",
        "    \"\"\"Compute the accuracy for a model on a dataset.\"\"\"\n",
        "    net.eval()  # Set the model to evaluation mode\n",
        "\n",
        "    total_loss = 0\n",
        "    total_hits = 0\n",
        "    total_samples = 0\n",
        "    with torch.no_grad():\n",
        "        for X, y in data_iter:\n",
        "            y_hat = net(X)\n",
        "            l = loss(y_hat, y)\n",
        "            total_loss += float(l)\n",
        "            total_hits += sum(net(X).argmax(axis=1).type(y.dtype) == y)\n",
        "            total_samples += y.numel()\n",
        "    return float(total_loss) / len(data_iter), float(total_hits) / total_samples  * 100"
      ]
    },
    {
      "cell_type": "markdown",
      "metadata": {
        "id": "RLxO6jJiwN5t"
      },
      "source": [
        "The training loop for softmax regression should look strikingly familiar,\n",
        "if we read through our implementation\n",
        "of linear regression.\n",
        "Here, we refactor the implementation to make it reusable.\n",
        "First, we define a function to train for one epoch.\n",
        "Note that `optimizer` is a general function to update the model parameters,\n",
        "which accepts the batch size as an argument.\n",
        "It will be one of the framework's built-in optimization functions."
      ]
    },
    {
      "cell_type": "code",
      "execution_count": null,
      "metadata": {
        "id": "hny8wQz-Qry4"
      },
      "outputs": [],
      "source": [
        "def train_epoch(net, train_iter, loss, optimizer):  \n",
        "    # Set the model to training mode\n",
        "    net.train()\n",
        "    # Sum of training loss, sum of training correct predictions, no. of examples\n",
        "    total_loss = 0\n",
        "    total_hits = 0\n",
        "    total_samples = 0\n",
        "    for X, y in train_iter:\n",
        "        # Compute gradients and update parameters\n",
        "        y_hat = net(X)\n",
        "        l = loss(y_hat, y)\n",
        "        # Using PyTorch built-in optimizer & loss criterion\n",
        "        optimizer.zero_grad()\n",
        "        l.backward()\n",
        "        optimizer.step()\n",
        "        total_loss += float(l)\n",
        "        total_hits += sum(y_hat.argmax(axis=1).type(y.dtype) == y)\n",
        "        total_samples += y.numel()\n",
        "    # Return training loss and training accuracy\n",
        "    return float(total_loss) / len(train_iter), float(total_hits) / total_samples  * 100"
      ]
    },
    {
      "cell_type": "markdown",
      "metadata": {
        "id": "CTbLypRAwqS8"
      },
      "source": [
        "The following training function then\n",
        "trains a model `net` on a training dataset accessed via `train_iter`\n",
        "for multiple epochs, which is specified by `num_epochs`.\n",
        "At the end of each epoch,\n",
        "the model is evaluated on a validation dataset, accessed via `val_iter`."
      ]
    },
    {
      "cell_type": "code",
      "execution_count": null,
      "metadata": {
        "id": "CkJyGXt2RayY"
      },
      "outputs": [],
      "source": [
        "def train(net, train_iter, val_iter, loss, num_epochs, optimizer):\n",
        "    \"\"\"Train a model.\"\"\"\n",
        "    train_loss_all = []\n",
        "    train_acc_all = []\n",
        "    val_loss_all = []\n",
        "    val_acc_all = []\n",
        "    for epoch in range(num_epochs):\n",
        "        train_loss, train_acc = train_epoch(net, train_iter, loss, optimizer)\n",
        "        train_loss_all.append(train_loss)\n",
        "        train_acc_all.append(train_acc)\n",
        "        val_loss, val_acc = evaluate_accuracy(net, val_iter)\n",
        "        val_loss_all.append(val_loss)\n",
        "        val_acc_all.append(val_acc)\n",
        "        print(f'Epoch {epoch + 1}, Train loss {train_loss:.2f}, Train accuracy {train_acc:.2f}, Validation loss {val_loss:.2f}, Validation accuracy {val_acc:.2f}')\n",
        "\n",
        "    return train_loss_all, train_acc_all, val_loss_all, val_acc_all"
      ]
    },
    {
      "cell_type": "markdown",
      "metadata": {
        "id": "Dfu-wjJ6w-N7"
      },
      "source": [
        "Now, we train the model for $10$ epochs.\n",
        "Note that both the number of epochs (`num_epochs`),\n",
        "and learning rate (`lr`) are adjustable hyperparameters.\n",
        "By changing their values, we may be able\n",
        "to increase the classification accuracy of the model."
      ]
    },
    {
      "cell_type": "code",
      "execution_count": null,
      "metadata": {
        "colab": {
          "base_uri": "https://localhost:8080/"
        },
        "id": "uawPLYvbZ34A",
        "outputId": "933b5d3c-6ff4-4267-d317-6240347f5245"
      },
      "outputs": [
        {
          "name": "stdout",
          "output_type": "stream",
          "text": [
            "Epoch 1, Train loss 0.82, Train accuracy 73.86, Validation loss 0.63, Validation accuracy 78.73\n",
            "Epoch 2, Train loss 0.58, Train accuracy 80.99, Validation loss 0.57, Validation accuracy 81.14\n",
            "Epoch 3, Train loss 0.54, Train accuracy 82.23, Validation loss 0.53, Validation accuracy 82.20\n",
            "Epoch 4, Train loss 0.51, Train accuracy 82.91, Validation loss 0.52, Validation accuracy 82.29\n",
            "Epoch 5, Train loss 0.49, Train accuracy 83.39, Validation loss 0.51, Validation accuracy 82.79\n",
            "Epoch 6, Train loss 0.48, Train accuracy 83.79, Validation loss 0.49, Validation accuracy 83.34\n",
            "Epoch 7, Train loss 0.47, Train accuracy 84.01, Validation loss 0.51, Validation accuracy 82.04\n",
            "Epoch 8, Train loss 0.46, Train accuracy 84.24, Validation loss 0.47, Validation accuracy 83.80\n",
            "Epoch 9, Train loss 0.46, Train accuracy 84.63, Validation loss 0.49, Validation accuracy 83.52\n",
            "Epoch 10, Train loss 0.45, Train accuracy 84.59, Validation loss 0.53, Validation accuracy 80.71\n"
          ]
        }
      ],
      "source": [
        "num_epochs = 10\n",
        "train_loss_all, train_acc_all, val_loss_all, val_acc_all = train(net, train_iter, val_iter, loss, num_epochs, optimizer)"
      ]
    },
    {
      "cell_type": "markdown",
      "metadata": {
        "id": "7FaqkYi9xPA3"
      },
      "source": [
        "We separately plot the loss and the accuracy for the training and validation sets, using the `plot_loss()` and `plot_accuracy()` methods, respectively."
      ]
    },
    {
      "cell_type": "code",
      "execution_count": null,
      "metadata": {
        "colab": {
          "base_uri": "https://localhost:8080/",
          "height": 295
        },
        "id": "bY5lvi52pVbR",
        "outputId": "3a163dec-94c5-47be-97aa-c3297e4764ab"
      },
      "outputs": [
        {
          "data": {
            "image/png": "[encoded data removed]",
            "text/plain": [
              "<Figure size 432x288 with 1 Axes>"
            ]
          },
          "metadata": {
            "needs_background": "light"
          },
          "output_type": "display_data"
        }
      ],
      "source": [
        "def plot_loss(train_loss_all, val_loss_all):\n",
        "    epochs = range(1, len(train_loss_all) + 1) \n",
        "    plt.plot(epochs, train_loss_all, 'bo', label='Training loss') \n",
        "    plt.plot(epochs, val_loss_all, 'b', label='Validation loss') \n",
        "    plt.title('Training and validation loss') \n",
        "    plt.xlabel('Epochs') \n",
        "    plt.ylabel('Loss') \n",
        "    plt.legend()  \n",
        "    plt.show()\n",
        "\n",
        "plot_loss(train_loss_all, val_loss_all)"
      ]
    },
    {
      "cell_type": "code",
      "execution_count": null,
      "metadata": {
        "colab": {
          "base_uri": "https://localhost:8080/",
          "height": 295
        },
        "id": "Co2IczFDpq49",
        "outputId": "73cdd2ca-759a-4185-f618-b0cf72b44828"
      },
      "outputs": [
        {
          "data": {
            "image/png": "[encoded data removed]",
            "text/plain": [
              "<Figure size 432x288 with 1 Axes>"
            ]
          },
          "metadata": {
            "needs_background": "light"
          },
          "output_type": "display_data"
        }
      ],
      "source": [
        "def plot_accuracy(train_acc_all, val_acc_all):\n",
        "    epochs = range(1, len(train_acc_all) + 1)\n",
        "    plt.plot(epochs, train_acc_all, 'bo', label='Training acc')\n",
        "    plt.plot(epochs, val_acc_all, 'b', label='Validation acc')\n",
        "    plt.title('Training and validation accuracy')\n",
        "    plt.xlabel('Epochs') \n",
        "    plt.ylabel('Accuracy') \n",
        "    plt.legend()\n",
        "    plt.show()\n",
        "\n",
        "plot_accuracy(train_acc_all, val_acc_all)"
      ]
    },
    {
      "cell_type": "markdown",
      "metadata": {
        "id": "skE-2aD7xpwd"
      },
      "source": [
        "Now that training is complete, we can evaluate the trained model on the *test set*, which was not used at all during the training process, not even for choosing hyperparameters."
      ]
    },
    {
      "cell_type": "code",
      "execution_count": null,
      "metadata": {
        "colab": {
          "base_uri": "https://localhost:8080/"
        },
        "id": "ml36YS-FwTdI",
        "outputId": "ea2cbed3-4ca2-4edd-e9f0-ca1cca1d7ecd"
      },
      "outputs": [
        {
          "name": "stdout",
          "output_type": "stream",
          "text": [
            "Test loss 0.55, Test accuracy 80.06\n"
          ]
        }
      ],
      "source": [
        "test_loss, test_acc = evaluate_accuracy(net, test_iter)\n",
        "print(f'Test loss {test_loss:.2f}, Test accuracy {test_acc:.2f}')"
      ]
    },
    {
      "cell_type": "markdown",
      "metadata": {
        "id": "mf7M363PxfeO"
      },
      "source": [
        "We can also use our model to classify some images.\n",
        "Given a series of images,\n",
        "we will compare their actual labels\n",
        "(first line of text output)\n",
        "and the predictions from the model\n",
        "(second line of text output)."
      ]
    },
    {
      "cell_type": "code",
      "execution_count": null,
      "metadata": {
        "colab": {
          "base_uri": "https://localhost:8080/",
          "height": 233
        },
        "id": "Avw5faeVxm1n",
        "outputId": "f75e8bb6-4136-4a56-b93e-7fe27f96f112"
      },
      "outputs": [
        {
          "data": {
            "image/png": "[encoded data removed]",
            "text/plain": [
              "<Figure size 972x216 with 18 Axes>"
            ]
          },
          "metadata": {
            "needs_background": "light"
          },
          "output_type": "display_data"
        }
      ],
      "source": [
        "def predict(net, test_iter, n=18):\n",
        "    \"\"\"Predict labels.\"\"\"\n",
        "    for X, y in test_iter:\n",
        "        break\n",
        "    trues = get_fashion_mnist_labels(y)\n",
        "    preds = get_fashion_mnist_labels(net(X).argmax(axis=1))\n",
        "    titles = [true +'\\n' + pred for true, pred in zip(trues, preds)]\n",
        "    show_images(X[0:n].reshape((n, 28, 28)), 2, int(n/2), titles=titles[0:n])\n",
        "\n",
        "predict(net, test_iter)"
      ]
    },
    {
      "cell_type": "markdown",
      "metadata": {
        "id": "T0vn64XspUu8"
      },
      "source": [
        "In short, as long as all data and parameters are on the same device, we can learn models efficiently."
      ]
    }
  ],
  "metadata": {
    "accelerator": "GPU",
    "colab": {
      "collapsed_sections": [],
      "provenance": []
    },
    "kernelspec": {
      "display_name": "Python 3",
      "name": "python3"
    },
    "language_info": {
      "name": "python"
    },
    "widgets": {
      "application/vnd.jupyter.widget-state+json": {
        "069cd7328c0143b8b92966b3716ced95": {
          "model_module": "@jupyter-widgets/controls",
          "model_module_version": "1.5.0",
          "model_name": "DescriptionStyleModel",
          "state": {
            "_model_module": "@jupyter-widgets/controls",
            "_model_module_version": "1.5.0",
            "_model_name": "DescriptionStyleModel",
            "_view_count": null,
            "_view_module": "@jupyter-widgets/base",
            "_view_module_version": "1.2.0",
            "_view_name": "StyleView",
            "description_width": ""
          }
        },
        "0ca5a707008c4253b9b6c285cece554d": {
          "model_module": "@jupyter-widgets/base",
          "model_module_version": "1.2.0",
          "model_name": "LayoutModel",
          "state": {
            "_model_module": "@jupyter-widgets/base",
            "_model_module_version": "1.2.0",
            "_model_name": "LayoutModel",
            "_view_count": null,
            "_view_module": "@jupyter-widgets/base",
            "_view_module_version": "1.2.0",
            "_view_name": "LayoutView",
            "align_content": null,
            "align_items": null,
            "align_self": null,
            "border": null,
            "bottom": null,
            "display": null,
            "flex": null,
            "flex_flow": null,
            "grid_area": null,
            "grid_auto_columns": null,
            "grid_auto_flow": null,
            "grid_auto_rows": null,
            "grid_column": null,
            "grid_gap": null,
            "grid_row": null,
            "grid_template_areas": null,
            "grid_template_columns": null,
            "grid_template_rows": null,
            "height": null,
            "justify_content": null,
            "justify_items": null,
            "left": null,
            "margin": null,
            "max_height": null,
            "max_width": null,
            "min_height": null,
            "min_width": null,
            "object_fit": null,
            "object_position": null,
            "order": null,
            "overflow": null,
            "overflow_x": null,
            "overflow_y": null,
            "padding": null,
            "right": null,
            "top": null,
            "visibility": null,
            "width": null
          }
        },
        "0f901a8b182b4c2598b390e46ec53ecd": {
          "model_module": "@jupyter-widgets/controls",
          "model_module_version": "1.5.0",
          "model_name": "HTMLModel",
          "state": {
            "_dom_classes": [],
            "_model_module": "@jupyter-widgets/controls",
            "_model_module_version": "1.5.0",
            "_model_name": "HTMLModel",
            "_view_count": null,
            "_view_module": "@jupyter-widgets/controls",
            "_view_module_version": "1.5.0",
            "_view_name": "HTMLView",
            "description": "",
            "description_tooltip": null,
            "layout": "IPY_MODEL_f7e1eb95751040d981610222b78cf0b4",
            "placeholder": "​",
            "style": "IPY_MODEL_33dddafdbe184793a2e80fcf0614b2e3",
            "value": ""
          }
        },
        "10c870bda1a5431b858ed7ce21cd3ee9": {
          "model_module": "@jupyter-widgets/controls",
          "model_module_version": "1.5.0",
          "model_name": "ProgressStyleModel",
          "state": {
            "_model_module": "@jupyter-widgets/controls",
            "_model_module_version": "1.5.0",
            "_model_name": "ProgressStyleModel",
            "_view_count": null,
            "_view_module": "@jupyter-widgets/base",
            "_view_module_version": "1.2.0",
            "_view_name": "StyleView",
            "bar_color": null,
            "description_width": ""
          }
        },
        "24a5244d4f404995891efd5f7f0356de": {
          "model_module": "@jupyter-widgets/controls",
          "model_module_version": "1.5.0",
          "model_name": "FloatProgressModel",
          "state": {
            "_dom_classes": [],
            "_model_module": "@jupyter-widgets/controls",
            "_model_module_version": "1.5.0",
            "_model_name": "FloatProgressModel",
            "_view_count": null,
            "_view_module": "@jupyter-widgets/controls",
            "_view_module_version": "1.5.0",
            "_view_name": "ProgressView",
            "bar_style": "success",
            "description": "",
            "description_tooltip": null,
            "layout": "IPY_MODEL_d7aa9ca7f59a40389bd1c675e62ae037",
            "max": 26421880,
            "min": 0,
            "orientation": "horizontal",
            "style": "IPY_MODEL_8dc190f4194643db82db36be40cbc165",
            "value": 26421880
          }
        },
        "279e827ca3fa4ed5bd5057a4ae0a0e25": {
          "model_module": "@jupyter-widgets/base",
          "model_module_version": "1.2.0",
          "model_name": "LayoutModel",
          "state": {
            "_model_module": "@jupyter-widgets/base",
            "_model_module_version": "1.2.0",
            "_model_name": "LayoutModel",
            "_view_count": null,
            "_view_module": "@jupyter-widgets/base",
            "_view_module_version": "1.2.0",
            "_view_name": "LayoutView",
            "align_content": null,
            "align_items": null,
            "align_self": null,
            "border": null,
            "bottom": null,
            "display": null,
            "flex": null,
            "flex_flow": null,
            "grid_area": null,
            "grid_auto_columns": null,
            "grid_auto_flow": null,
            "grid_auto_rows": null,
            "grid_column": null,
            "grid_gap": null,
            "grid_row": null,
            "grid_template_areas": null,
            "grid_template_columns": null,
            "grid_template_rows": null,
            "height": null,
            "justify_content": null,
            "justify_items": null,
            "left": null,
            "margin": null,
            "max_height": null,
            "max_width": null,
            "min_height": null,
            "min_width": null,
            "object_fit": null,
            "object_position": null,
            "order": null,
            "overflow": null,
            "overflow_x": null,
            "overflow_y": null,
            "padding": null,
            "right": null,
            "top": null,
            "visibility": null,
            "width": null
          }
        },
        "27f30aa2f08048cb86dd36ab6d70d79a": {
          "model_module": "@jupyter-widgets/controls",
          "model_module_version": "1.5.0",
          "model_name": "FloatProgressModel",
          "state": {
            "_dom_classes": [],
            "_model_module": "@jupyter-widgets/controls",
            "_model_module_version": "1.5.0",
            "_model_name": "FloatProgressModel",
            "_view_count": null,
            "_view_module": "@jupyter-widgets/controls",
            "_view_module_version": "1.5.0",
            "_view_name": "ProgressView",
            "bar_style": "success",
            "description": "",
            "description_tooltip": null,
            "layout": "IPY_MODEL_f26f3b02e09744b7b4c082d3bac94217",
            "max": 29515,
            "min": 0,
            "orientation": "horizontal",
            "style": "IPY_MODEL_a18ffed350244b53b491dee79102283b",
            "value": 29515
          }
        },
        "2b890e70ae804171b14dcc45d7203249": {
          "model_module": "@jupyter-widgets/base",
          "model_module_version": "1.2.0",
          "model_name": "LayoutModel",
          "state": {
            "_model_module": "@jupyter-widgets/base",
            "_model_module_version": "1.2.0",
            "_model_name": "LayoutModel",
            "_view_count": null,
            "_view_module": "@jupyter-widgets/base",
            "_view_module_version": "1.2.0",
            "_view_name": "LayoutView",
            "align_content": null,
            "align_items": null,
            "align_self": null,
            "border": null,
            "bottom": null,
            "display": null,
            "flex": null,
            "flex_flow": null,
            "grid_area": null,
            "grid_auto_columns": null,
            "grid_auto_flow": null,
            "grid_auto_rows": null,
            "grid_column": null,
            "grid_gap": null,
            "grid_row": null,
            "grid_template_areas": null,
            "grid_template_columns": null,
            "grid_template_rows": null,
            "height": null,
            "justify_content": null,
            "justify_items": null,
            "left": null,
            "margin": null,
            "max_height": null,
            "max_width": null,
            "min_height": null,
            "min_width": null,
            "object_fit": null,
            "object_position": null,
            "order": null,
            "overflow": null,
            "overflow_x": null,
            "overflow_y": null,
            "padding": null,
            "right": null,
            "top": null,
            "visibility": null,
            "width": null
          }
        },
        "30379b27e0ee48958150b8a248b435b5": {
          "model_module": "@jupyter-widgets/controls",
          "model_module_version": "1.5.0",
          "model_name": "FloatProgressModel",
          "state": {
            "_dom_classes": [],
            "_model_module": "@jupyter-widgets/controls",
            "_model_module_version": "1.5.0",
            "_model_name": "FloatProgressModel",
            "_view_count": null,
            "_view_module": "@jupyter-widgets/controls",
            "_view_module_version": "1.5.0",
            "_view_name": "ProgressView",
            "bar_style": "success",
            "description": "",
            "description_tooltip": null,
            "layout": "IPY_MODEL_62ea03515b1644639ec13d43227b43b3",
            "max": 5148,
            "min": 0,
            "orientation": "horizontal",
            "style": "IPY_MODEL_10c870bda1a5431b858ed7ce21cd3ee9",
            "value": 5148
          }
        },
        "332987e580754b1599c3f68db2097325": {
          "model_module": "@jupyter-widgets/controls",
          "model_module_version": "1.5.0",
          "model_name": "DescriptionStyleModel",
          "state": {
            "_model_module": "@jupyter-widgets/controls",
            "_model_module_version": "1.5.0",
            "_model_name": "DescriptionStyleModel",
            "_view_count": null,
            "_view_module": "@jupyter-widgets/base",
            "_view_module_version": "1.2.0",
            "_view_name": "StyleView",
            "description_width": ""
          }
        },
        "33dddafdbe184793a2e80fcf0614b2e3": {
          "model_module": "@jupyter-widgets/controls",
          "model_module_version": "1.5.0",
          "model_name": "DescriptionStyleModel",
          "state": {
            "_model_module": "@jupyter-widgets/controls",
            "_model_module_version": "1.5.0",
            "_model_name": "DescriptionStyleModel",
            "_view_count": null,
            "_view_module": "@jupyter-widgets/base",
            "_view_module_version": "1.2.0",
            "_view_name": "StyleView",
            "description_width": ""
          }
        },
        "4dca9a5d99ba42398ae798fb6432e05a": {
          "model_module": "@jupyter-widgets/base",
          "model_module_version": "1.2.0",
          "model_name": "LayoutModel",
          "state": {
            "_model_module": "@jupyter-widgets/base",
            "_model_module_version": "1.2.0",
            "_model_name": "LayoutModel",
            "_view_count": null,
            "_view_module": "@jupyter-widgets/base",
            "_view_module_version": "1.2.0",
            "_view_name": "LayoutView",
            "align_content": null,
            "align_items": null,
            "align_self": null,
            "border": null,
            "bottom": null,
            "display": null,
            "flex": null,
            "flex_flow": null,
            "grid_area": null,
            "grid_auto_columns": null,
            "grid_auto_flow": null,
            "grid_auto_rows": null,
            "grid_column": null,
            "grid_gap": null,
            "grid_row": null,
            "grid_template_areas": null,
            "grid_template_columns": null,
            "grid_template_rows": null,
            "height": null,
            "justify_content": null,
            "justify_items": null,
            "left": null,
            "margin": null,
            "max_height": null,
            "max_width": null,
            "min_height": null,
            "min_width": null,
            "object_fit": null,
            "object_position": null,
            "order": null,
            "overflow": null,
            "overflow_x": null,
            "overflow_y": null,
            "padding": null,
            "right": null,
            "top": null,
            "visibility": null,
            "width": null
          }
        },
        "4f82ce08c73847208952dd17b95869ae": {
          "model_module": "@jupyter-widgets/controls",
          "model_module_version": "1.5.0",
          "model_name": "HBoxModel",
          "state": {
            "_dom_classes": [],
            "_model_module": "@jupyter-widgets/controls",
            "_model_module_version": "1.5.0",
            "_model_name": "HBoxModel",
            "_view_count": null,
            "_view_module": "@jupyter-widgets/controls",
            "_view_module_version": "1.5.0",
            "_view_name": "HBoxView",
            "box_style": "",
            "children": [
              "IPY_MODEL_ab16f754956c488aad6545edf6a99d3f",
              "IPY_MODEL_66d7396f246b43aba17c22fcfc221bc8",
              "IPY_MODEL_5c91f197ead44c77b215d26d10c580b7"
            ],
            "layout": "IPY_MODEL_e72654a8db5f4cb881547d335830e7ad"
          }
        },
        "56af5ee8e989465c85b1dfc9a606b547": {
          "model_module": "@jupyter-widgets/controls",
          "model_module_version": "1.5.0",
          "model_name": "DescriptionStyleModel",
          "state": {
            "_model_module": "@jupyter-widgets/controls",
            "_model_module_version": "1.5.0",
            "_model_name": "DescriptionStyleModel",
            "_view_count": null,
            "_view_module": "@jupyter-widgets/base",
            "_view_module_version": "1.2.0",
            "_view_name": "StyleView",
            "description_width": ""
          }
        },
        "5c6ea3498105439d890356fd630e6275": {
          "model_module": "@jupyter-widgets/base",
          "model_module_version": "1.2.0",
          "model_name": "LayoutModel",
          "state": {
            "_model_module": "@jupyter-widgets/base",
            "_model_module_version": "1.2.0",
            "_model_name": "LayoutModel",
            "_view_count": null,
            "_view_module": "@jupyter-widgets/base",
            "_view_module_version": "1.2.0",
            "_view_name": "LayoutView",
            "align_content": null,
            "align_items": null,
            "align_self": null,
            "border": null,
            "bottom": null,
            "display": null,
            "flex": null,
            "flex_flow": null,
            "grid_area": null,
            "grid_auto_columns": null,
            "grid_auto_flow": null,
            "grid_auto_rows": null,
            "grid_column": null,
            "grid_gap": null,
            "grid_row": null,
            "grid_template_areas": null,
            "grid_template_columns": null,
            "grid_template_rows": null,
            "height": null,
            "justify_content": null,
            "justify_items": null,
            "left": null,
            "margin": null,
            "max_height": null,
            "max_width": null,
            "min_height": null,
            "min_width": null,
            "object_fit": null,
            "object_position": null,
            "order": null,
            "overflow": null,
            "overflow_x": null,
            "overflow_y": null,
            "padding": null,
            "right": null,
            "top": null,
            "visibility": null,
            "width": null
          }
        },
        "5c91f197ead44c77b215d26d10c580b7": {
          "model_module": "@jupyter-widgets/controls",
          "model_module_version": "1.5.0",
          "model_name": "HTMLModel",
          "state": {
            "_dom_classes": [],
            "_model_module": "@jupyter-widgets/controls",
            "_model_module_version": "1.5.0",
            "_model_name": "HTMLModel",
            "_view_count": null,
            "_view_module": "@jupyter-widgets/controls",
            "_view_module_version": "1.5.0",
            "_view_name": "HTMLView",
            "description": "",
            "description_tooltip": null,
            "layout": "IPY_MODEL_4dca9a5d99ba42398ae798fb6432e05a",
            "placeholder": "​",
            "style": "IPY_MODEL_332987e580754b1599c3f68db2097325",
            "value": " 4422656/? [00:00&lt;00:00, 9394573.75it/s]"
          }
        },
        "5d8c926a5b864292817616a9ebb20d1e": {
          "model_module": "@jupyter-widgets/controls",
          "model_module_version": "1.5.0",
          "model_name": "DescriptionStyleModel",
          "state": {
            "_model_module": "@jupyter-widgets/controls",
            "_model_module_version": "1.5.0",
            "_model_name": "DescriptionStyleModel",
            "_view_count": null,
            "_view_module": "@jupyter-widgets/base",
            "_view_module_version": "1.2.0",
            "_view_name": "StyleView",
            "description_width": ""
          }
        },
        "62ea03515b1644639ec13d43227b43b3": {
          "model_module": "@jupyter-widgets/base",
          "model_module_version": "1.2.0",
          "model_name": "LayoutModel",
          "state": {
            "_model_module": "@jupyter-widgets/base",
            "_model_module_version": "1.2.0",
            "_model_name": "LayoutModel",
            "_view_count": null,
            "_view_module": "@jupyter-widgets/base",
            "_view_module_version": "1.2.0",
            "_view_name": "LayoutView",
            "align_content": null,
            "align_items": null,
            "align_self": null,
            "border": null,
            "bottom": null,
            "display": null,
            "flex": null,
            "flex_flow": null,
            "grid_area": null,
            "grid_auto_columns": null,
            "grid_auto_flow": null,
            "grid_auto_rows": null,
            "grid_column": null,
            "grid_gap": null,
            "grid_row": null,
            "grid_template_areas": null,
            "grid_template_columns": null,
            "grid_template_rows": null,
            "height": null,
            "justify_content": null,
            "justify_items": null,
            "left": null,
            "margin": null,
            "max_height": null,
            "max_width": null,
            "min_height": null,
            "min_width": null,
            "object_fit": null,
            "object_position": null,
            "order": null,
            "overflow": null,
            "overflow_x": null,
            "overflow_y": null,
            "padding": null,
            "right": null,
            "top": null,
            "visibility": null,
            "width": null
          }
        },
        "63931c95c7cc4c8b9d00a157d4b9b771": {
          "model_module": "@jupyter-widgets/controls",
          "model_module_version": "1.5.0",
          "model_name": "HBoxModel",
          "state": {
            "_dom_classes": [],
            "_model_module": "@jupyter-widgets/controls",
            "_model_module_version": "1.5.0",
            "_model_name": "HBoxModel",
            "_view_count": null,
            "_view_module": "@jupyter-widgets/controls",
            "_view_module_version": "1.5.0",
            "_view_name": "HBoxView",
            "box_style": "",
            "children": [
              "IPY_MODEL_0f901a8b182b4c2598b390e46ec53ecd",
              "IPY_MODEL_24a5244d4f404995891efd5f7f0356de",
              "IPY_MODEL_c5ccf1c511ee4460b0856d9f710f2f05"
            ],
            "layout": "IPY_MODEL_5c6ea3498105439d890356fd630e6275"
          }
        },
        "66d7396f246b43aba17c22fcfc221bc8": {
          "model_module": "@jupyter-widgets/controls",
          "model_module_version": "1.5.0",
          "model_name": "FloatProgressModel",
          "state": {
            "_dom_classes": [],
            "_model_module": "@jupyter-widgets/controls",
            "_model_module_version": "1.5.0",
            "_model_name": "FloatProgressModel",
            "_view_count": null,
            "_view_module": "@jupyter-widgets/controls",
            "_view_module_version": "1.5.0",
            "_view_name": "ProgressView",
            "bar_style": "success",
            "description": "",
            "description_tooltip": null,
            "layout": "IPY_MODEL_a0f3d72729984f749da18c61ed5a469d",
            "max": 4422102,
            "min": 0,
            "orientation": "horizontal",
            "style": "IPY_MODEL_912f236fe951485b9dbd0b5e28415103",
            "value": 4422102
          }
        },
        "682a022f7e0f458daba5e9b1dbf96cb1": {
          "model_module": "@jupyter-widgets/controls",
          "model_module_version": "1.5.0",
          "model_name": "DescriptionStyleModel",
          "state": {
            "_model_module": "@jupyter-widgets/controls",
            "_model_module_version": "1.5.0",
            "_model_name": "DescriptionStyleModel",
            "_view_count": null,
            "_view_module": "@jupyter-widgets/base",
            "_view_module_version": "1.2.0",
            "_view_name": "StyleView",
            "description_width": ""
          }
        },
        "6b70be8fcc9f4028b594d9f3f2c17fc3": {
          "model_module": "@jupyter-widgets/base",
          "model_module_version": "1.2.0",
          "model_name": "LayoutModel",
          "state": {
            "_model_module": "@jupyter-widgets/base",
            "_model_module_version": "1.2.0",
            "_model_name": "LayoutModel",
            "_view_count": null,
            "_view_module": "@jupyter-widgets/base",
            "_view_module_version": "1.2.0",
            "_view_name": "LayoutView",
            "align_content": null,
            "align_items": null,
            "align_self": null,
            "border": null,
            "bottom": null,
            "display": null,
            "flex": null,
            "flex_flow": null,
            "grid_area": null,
            "grid_auto_columns": null,
            "grid_auto_flow": null,
            "grid_auto_rows": null,
            "grid_column": null,
            "grid_gap": null,
            "grid_row": null,
            "grid_template_areas": null,
            "grid_template_columns": null,
            "grid_template_rows": null,
            "height": null,
            "justify_content": null,
            "justify_items": null,
            "left": null,
            "margin": null,
            "max_height": null,
            "max_width": null,
            "min_height": null,
            "min_width": null,
            "object_fit": null,
            "object_position": null,
            "order": null,
            "overflow": null,
            "overflow_x": null,
            "overflow_y": null,
            "padding": null,
            "right": null,
            "top": null,
            "visibility": null,
            "width": null
          }
        },
        "7646c234a07843a5b5b0c137712b99e7": {
          "model_module": "@jupyter-widgets/base",
          "model_module_version": "1.2.0",
          "model_name": "LayoutModel",
          "state": {
            "_model_module": "@jupyter-widgets/base",
            "_model_module_version": "1.2.0",
            "_model_name": "LayoutModel",
            "_view_count": null,
            "_view_module": "@jupyter-widgets/base",
            "_view_module_version": "1.2.0",
            "_view_name": "LayoutView",
            "align_content": null,
            "align_items": null,
            "align_self": null,
            "border": null,
            "bottom": null,
            "display": null,
            "flex": null,
            "flex_flow": null,
            "grid_area": null,
            "grid_auto_columns": null,
            "grid_auto_flow": null,
            "grid_auto_rows": null,
            "grid_column": null,
            "grid_gap": null,
            "grid_row": null,
            "grid_template_areas": null,
            "grid_template_columns": null,
            "grid_template_rows": null,
            "height": null,
            "justify_content": null,
            "justify_items": null,
            "left": null,
            "margin": null,
            "max_height": null,
            "max_width": null,
            "min_height": null,
            "min_width": null,
            "object_fit": null,
            "object_position": null,
            "order": null,
            "overflow": null,
            "overflow_x": null,
            "overflow_y": null,
            "padding": null,
            "right": null,
            "top": null,
            "visibility": null,
            "width": null
          }
        },
        "84dfc3befc304d5b9bf6e9e65f2e1178": {
          "model_module": "@jupyter-widgets/controls",
          "model_module_version": "1.5.0",
          "model_name": "HBoxModel",
          "state": {
            "_dom_classes": [],
            "_model_module": "@jupyter-widgets/controls",
            "_model_module_version": "1.5.0",
            "_model_name": "HBoxModel",
            "_view_count": null,
            "_view_module": "@jupyter-widgets/controls",
            "_view_module_version": "1.5.0",
            "_view_name": "HBoxView",
            "box_style": "",
            "children": [
              "IPY_MODEL_ab7d28e630a64ffa8f4e5e1d24d44757",
              "IPY_MODEL_27f30aa2f08048cb86dd36ab6d70d79a",
              "IPY_MODEL_fb440a440eb94a849ae94c52c37f1fb6"
            ],
            "layout": "IPY_MODEL_7646c234a07843a5b5b0c137712b99e7"
          }
        },
        "8dc190f4194643db82db36be40cbc165": {
          "model_module": "@jupyter-widgets/controls",
          "model_module_version": "1.5.0",
          "model_name": "ProgressStyleModel",
          "state": {
            "_model_module": "@jupyter-widgets/controls",
            "_model_module_version": "1.5.0",
            "_model_name": "ProgressStyleModel",
            "_view_count": null,
            "_view_module": "@jupyter-widgets/base",
            "_view_module_version": "1.2.0",
            "_view_name": "StyleView",
            "bar_color": null,
            "description_width": ""
          }
        },
        "912f236fe951485b9dbd0b5e28415103": {
          "model_module": "@jupyter-widgets/controls",
          "model_module_version": "1.5.0",
          "model_name": "ProgressStyleModel",
          "state": {
            "_model_module": "@jupyter-widgets/controls",
            "_model_module_version": "1.5.0",
            "_model_name": "ProgressStyleModel",
            "_view_count": null,
            "_view_module": "@jupyter-widgets/base",
            "_view_module_version": "1.2.0",
            "_view_name": "StyleView",
            "bar_color": null,
            "description_width": ""
          }
        },
        "a0f3d72729984f749da18c61ed5a469d": {
          "model_module": "@jupyter-widgets/base",
          "model_module_version": "1.2.0",
          "model_name": "LayoutModel",
          "state": {
            "_model_module": "@jupyter-widgets/base",
            "_model_module_version": "1.2.0",
            "_model_name": "LayoutModel",
            "_view_count": null,
            "_view_module": "@jupyter-widgets/base",
            "_view_module_version": "1.2.0",
            "_view_name": "LayoutView",
            "align_content": null,
            "align_items": null,
            "align_self": null,
            "border": null,
            "bottom": null,
            "display": null,
            "flex": null,
            "flex_flow": null,
            "grid_area": null,
            "grid_auto_columns": null,
            "grid_auto_flow": null,
            "grid_auto_rows": null,
            "grid_column": null,
            "grid_gap": null,
            "grid_row": null,
            "grid_template_areas": null,
            "grid_template_columns": null,
            "grid_template_rows": null,
            "height": null,
            "justify_content": null,
            "justify_items": null,
            "left": null,
            "margin": null,
            "max_height": null,
            "max_width": null,
            "min_height": null,
            "min_width": null,
            "object_fit": null,
            "object_position": null,
            "order": null,
            "overflow": null,
            "overflow_x": null,
            "overflow_y": null,
            "padding": null,
            "right": null,
            "top": null,
            "visibility": null,
            "width": null
          }
        },
        "a18ffed350244b53b491dee79102283b": {
          "model_module": "@jupyter-widgets/controls",
          "model_module_version": "1.5.0",
          "model_name": "ProgressStyleModel",
          "state": {
            "_model_module": "@jupyter-widgets/controls",
            "_model_module_version": "1.5.0",
            "_model_name": "ProgressStyleModel",
            "_view_count": null,
            "_view_module": "@jupyter-widgets/base",
            "_view_module_version": "1.2.0",
            "_view_name": "StyleView",
            "bar_color": null,
            "description_width": ""
          }
        },
        "ab16f754956c488aad6545edf6a99d3f": {
          "model_module": "@jupyter-widgets/controls",
          "model_module_version": "1.5.0",
          "model_name": "HTMLModel",
          "state": {
            "_dom_classes": [],
            "_model_module": "@jupyter-widgets/controls",
            "_model_module_version": "1.5.0",
            "_model_name": "HTMLModel",
            "_view_count": null,
            "_view_module": "@jupyter-widgets/controls",
            "_view_module_version": "1.5.0",
            "_view_name": "HTMLView",
            "description": "",
            "description_tooltip": null,
            "layout": "IPY_MODEL_cf9526807c6540afba9b6c73ea0908ef",
            "placeholder": "​",
            "style": "IPY_MODEL_069cd7328c0143b8b92966b3716ced95",
            "value": ""
          }
        },
        "ab7d28e630a64ffa8f4e5e1d24d44757": {
          "model_module": "@jupyter-widgets/controls",
          "model_module_version": "1.5.0",
          "model_name": "HTMLModel",
          "state": {
            "_dom_classes": [],
            "_model_module": "@jupyter-widgets/controls",
            "_model_module_version": "1.5.0",
            "_model_name": "HTMLModel",
            "_view_count": null,
            "_view_module": "@jupyter-widgets/controls",
            "_view_module_version": "1.5.0",
            "_view_name": "HTMLView",
            "description": "",
            "description_tooltip": null,
            "layout": "IPY_MODEL_f7ca98f56d9f4fdf92b36fbbbf1b7ec8",
            "placeholder": "​",
            "style": "IPY_MODEL_682a022f7e0f458daba5e9b1dbf96cb1",
            "value": ""
          }
        },
        "b0b5bfe3879a4aa7967fe954efc650bb": {
          "model_module": "@jupyter-widgets/base",
          "model_module_version": "1.2.0",
          "model_name": "LayoutModel",
          "state": {
            "_model_module": "@jupyter-widgets/base",
            "_model_module_version": "1.2.0",
            "_model_name": "LayoutModel",
            "_view_count": null,
            "_view_module": "@jupyter-widgets/base",
            "_view_module_version": "1.2.0",
            "_view_name": "LayoutView",
            "align_content": null,
            "align_items": null,
            "align_self": null,
            "border": null,
            "bottom": null,
            "display": null,
            "flex": null,
            "flex_flow": null,
            "grid_area": null,
            "grid_auto_columns": null,
            "grid_auto_flow": null,
            "grid_auto_rows": null,
            "grid_column": null,
            "grid_gap": null,
            "grid_row": null,
            "grid_template_areas": null,
            "grid_template_columns": null,
            "grid_template_rows": null,
            "height": null,
            "justify_content": null,
            "justify_items": null,
            "left": null,
            "margin": null,
            "max_height": null,
            "max_width": null,
            "min_height": null,
            "min_width": null,
            "object_fit": null,
            "object_position": null,
            "order": null,
            "overflow": null,
            "overflow_x": null,
            "overflow_y": null,
            "padding": null,
            "right": null,
            "top": null,
            "visibility": null,
            "width": null
          }
        },
        "b3a0ceeac2e948748d78fce884b7e06d": {
          "model_module": "@jupyter-widgets/controls",
          "model_module_version": "1.5.0",
          "model_name": "DescriptionStyleModel",
          "state": {
            "_model_module": "@jupyter-widgets/controls",
            "_model_module_version": "1.5.0",
            "_model_name": "DescriptionStyleModel",
            "_view_count": null,
            "_view_module": "@jupyter-widgets/base",
            "_view_module_version": "1.2.0",
            "_view_name": "StyleView",
            "description_width": ""
          }
        },
        "bdc3fb88f113424c94121b98d1165714": {
          "model_module": "@jupyter-widgets/controls",
          "model_module_version": "1.5.0",
          "model_name": "HTMLModel",
          "state": {
            "_dom_classes": [],
            "_model_module": "@jupyter-widgets/controls",
            "_model_module_version": "1.5.0",
            "_model_name": "HTMLModel",
            "_view_count": null,
            "_view_module": "@jupyter-widgets/controls",
            "_view_module_version": "1.5.0",
            "_view_name": "HTMLView",
            "description": "",
            "description_tooltip": null,
            "layout": "IPY_MODEL_0ca5a707008c4253b9b6c285cece554d",
            "placeholder": "​",
            "style": "IPY_MODEL_b3a0ceeac2e948748d78fce884b7e06d",
            "value": " 6144/? [00:00&lt;00:00, 166194.61it/s]"
          }
        },
        "c5ccf1c511ee4460b0856d9f710f2f05": {
          "model_module": "@jupyter-widgets/controls",
          "model_module_version": "1.5.0",
          "model_name": "HTMLModel",
          "state": {
            "_dom_classes": [],
            "_model_module": "@jupyter-widgets/controls",
            "_model_module_version": "1.5.0",
            "_model_name": "HTMLModel",
            "_view_count": null,
            "_view_module": "@jupyter-widgets/controls",
            "_view_module_version": "1.5.0",
            "_view_name": "HTMLView",
            "description": "",
            "description_tooltip": null,
            "layout": "IPY_MODEL_279e827ca3fa4ed5bd5057a4ae0a0e25",
            "placeholder": "​",
            "style": "IPY_MODEL_5d8c926a5b864292817616a9ebb20d1e",
            "value": " 26422272/? [00:01&lt;00:00, 27488737.39it/s]"
          }
        },
        "cf9526807c6540afba9b6c73ea0908ef": {
          "model_module": "@jupyter-widgets/base",
          "model_module_version": "1.2.0",
          "model_name": "LayoutModel",
          "state": {
            "_model_module": "@jupyter-widgets/base",
            "_model_module_version": "1.2.0",
            "_model_name": "LayoutModel",
            "_view_count": null,
            "_view_module": "@jupyter-widgets/base",
            "_view_module_version": "1.2.0",
            "_view_name": "LayoutView",
            "align_content": null,
            "align_items": null,
            "align_self": null,
            "border": null,
            "bottom": null,
            "display": null,
            "flex": null,
            "flex_flow": null,
            "grid_area": null,
            "grid_auto_columns": null,
            "grid_auto_flow": null,
            "grid_auto_rows": null,
            "grid_column": null,
            "grid_gap": null,
            "grid_row": null,
            "grid_template_areas": null,
            "grid_template_columns": null,
            "grid_template_rows": null,
            "height": null,
            "justify_content": null,
            "justify_items": null,
            "left": null,
            "margin": null,
            "max_height": null,
            "max_width": null,
            "min_height": null,
            "min_width": null,
            "object_fit": null,
            "object_position": null,
            "order": null,
            "overflow": null,
            "overflow_x": null,
            "overflow_y": null,
            "padding": null,
            "right": null,
            "top": null,
            "visibility": null,
            "width": null
          }
        },
        "d7aa9ca7f59a40389bd1c675e62ae037": {
          "model_module": "@jupyter-widgets/base",
          "model_module_version": "1.2.0",
          "model_name": "LayoutModel",
          "state": {
            "_model_module": "@jupyter-widgets/base",
            "_model_module_version": "1.2.0",
            "_model_name": "LayoutModel",
            "_view_count": null,
            "_view_module": "@jupyter-widgets/base",
            "_view_module_version": "1.2.0",
            "_view_name": "LayoutView",
            "align_content": null,
            "align_items": null,
            "align_self": null,
            "border": null,
            "bottom": null,
            "display": null,
            "flex": null,
            "flex_flow": null,
            "grid_area": null,
            "grid_auto_columns": null,
            "grid_auto_flow": null,
            "grid_auto_rows": null,
            "grid_column": null,
            "grid_gap": null,
            "grid_row": null,
            "grid_template_areas": null,
            "grid_template_columns": null,
            "grid_template_rows": null,
            "height": null,
            "justify_content": null,
            "justify_items": null,
            "left": null,
            "margin": null,
            "max_height": null,
            "max_width": null,
            "min_height": null,
            "min_width": null,
            "object_fit": null,
            "object_position": null,
            "order": null,
            "overflow": null,
            "overflow_x": null,
            "overflow_y": null,
            "padding": null,
            "right": null,
            "top": null,
            "visibility": null,
            "width": null
          }
        },
        "e617322c2b4a41a5813867bb1ac7cfe9": {
          "model_module": "@jupyter-widgets/controls",
          "model_module_version": "1.5.0",
          "model_name": "HBoxModel",
          "state": {
            "_dom_classes": [],
            "_model_module": "@jupyter-widgets/controls",
            "_model_module_version": "1.5.0",
            "_model_name": "HBoxModel",
            "_view_count": null,
            "_view_module": "@jupyter-widgets/controls",
            "_view_module_version": "1.5.0",
            "_view_name": "HBoxView",
            "box_style": "",
            "children": [
              "IPY_MODEL_f0e2ff5c0c7b4d6e9abc89904d85818b",
              "IPY_MODEL_30379b27e0ee48958150b8a248b435b5",
              "IPY_MODEL_bdc3fb88f113424c94121b98d1165714"
            ],
            "layout": "IPY_MODEL_2b890e70ae804171b14dcc45d7203249"
          }
        },
        "e72654a8db5f4cb881547d335830e7ad": {
          "model_module": "@jupyter-widgets/base",
          "model_module_version": "1.2.0",
          "model_name": "LayoutModel",
          "state": {
            "_model_module": "@jupyter-widgets/base",
            "_model_module_version": "1.2.0",
            "_model_name": "LayoutModel",
            "_view_count": null,
            "_view_module": "@jupyter-widgets/base",
            "_view_module_version": "1.2.0",
            "_view_name": "LayoutView",
            "align_content": null,
            "align_items": null,
            "align_self": null,
            "border": null,
            "bottom": null,
            "display": null,
            "flex": null,
            "flex_flow": null,
            "grid_area": null,
            "grid_auto_columns": null,
            "grid_auto_flow": null,
            "grid_auto_rows": null,
            "grid_column": null,
            "grid_gap": null,
            "grid_row": null,
            "grid_template_areas": null,
            "grid_template_columns": null,
            "grid_template_rows": null,
            "height": null,
            "justify_content": null,
            "justify_items": null,
            "left": null,
            "margin": null,
            "max_height": null,
            "max_width": null,
            "min_height": null,
            "min_width": null,
            "object_fit": null,
            "object_position": null,
            "order": null,
            "overflow": null,
            "overflow_x": null,
            "overflow_y": null,
            "padding": null,
            "right": null,
            "top": null,
            "visibility": null,
            "width": null
          }
        },
        "ed1a57fe0d85474d97928d02ac234a81": {
          "model_module": "@jupyter-widgets/controls",
          "model_module_version": "1.5.0",
          "model_name": "DescriptionStyleModel",
          "state": {
            "_model_module": "@jupyter-widgets/controls",
            "_model_module_version": "1.5.0",
            "_model_name": "DescriptionStyleModel",
            "_view_count": null,
            "_view_module": "@jupyter-widgets/base",
            "_view_module_version": "1.2.0",
            "_view_name": "StyleView",
            "description_width": ""
          }
        },
        "f0e2ff5c0c7b4d6e9abc89904d85818b": {
          "model_module": "@jupyter-widgets/controls",
          "model_module_version": "1.5.0",
          "model_name": "HTMLModel",
          "state": {
            "_dom_classes": [],
            "_model_module": "@jupyter-widgets/controls",
            "_model_module_version": "1.5.0",
            "_model_name": "HTMLModel",
            "_view_count": null,
            "_view_module": "@jupyter-widgets/controls",
            "_view_module_version": "1.5.0",
            "_view_name": "HTMLView",
            "description": "",
            "description_tooltip": null,
            "layout": "IPY_MODEL_b0b5bfe3879a4aa7967fe954efc650bb",
            "placeholder": "​",
            "style": "IPY_MODEL_ed1a57fe0d85474d97928d02ac234a81",
            "value": ""
          }
        },
        "f26f3b02e09744b7b4c082d3bac94217": {
          "model_module": "@jupyter-widgets/base",
          "model_module_version": "1.2.0",
          "model_name": "LayoutModel",
          "state": {
            "_model_module": "@jupyter-widgets/base",
            "_model_module_version": "1.2.0",
            "_model_name": "LayoutModel",
            "_view_count": null,
            "_view_module": "@jupyter-widgets/base",
            "_view_module_version": "1.2.0",
            "_view_name": "LayoutView",
            "align_content": null,
            "align_items": null,
            "align_self": null,
            "border": null,
            "bottom": null,
            "display": null,
            "flex": null,
            "flex_flow": null,
            "grid_area": null,
            "grid_auto_columns": null,
            "grid_auto_flow": null,
            "grid_auto_rows": null,
            "grid_column": null,
            "grid_gap": null,
            "grid_row": null,
            "grid_template_areas": null,
            "grid_template_columns": null,
            "grid_template_rows": null,
            "height": null,
            "justify_content": null,
            "justify_items": null,
            "left": null,
            "margin": null,
            "max_height": null,
            "max_width": null,
            "min_height": null,
            "min_width": null,
            "object_fit": null,
            "object_position": null,
            "order": null,
            "overflow": null,
            "overflow_x": null,
            "overflow_y": null,
            "padding": null,
            "right": null,
            "top": null,
            "visibility": null,
            "width": null
          }
        },
        "f7ca98f56d9f4fdf92b36fbbbf1b7ec8": {
          "model_module": "@jupyter-widgets/base",
          "model_module_version": "1.2.0",
          "model_name": "LayoutModel",
          "state": {
            "_model_module": "@jupyter-widgets/base",
            "_model_module_version": "1.2.0",
            "_model_name": "LayoutModel",
            "_view_count": null,
            "_view_module": "@jupyter-widgets/base",
            "_view_module_version": "1.2.0",
            "_view_name": "LayoutView",
            "align_content": null,
            "align_items": null,
            "align_self": null,
            "border": null,
            "bottom": null,
            "display": null,
            "flex": null,
            "flex_flow": null,
            "grid_area": null,
            "grid_auto_columns": null,
            "grid_auto_flow": null,
            "grid_auto_rows": null,
            "grid_column": null,
            "grid_gap": null,
            "grid_row": null,
            "grid_template_areas": null,
            "grid_template_columns": null,
            "grid_template_rows": null,
            "height": null,
            "justify_content": null,
            "justify_items": null,
            "left": null,
            "margin": null,
            "max_height": null,
            "max_width": null,
            "min_height": null,
            "min_width": null,
            "object_fit": null,
            "object_position": null,
            "order": null,
            "overflow": null,
            "overflow_x": null,
            "overflow_y": null,
            "padding": null,
            "right": null,
            "top": null,
            "visibility": null,
            "width": null
          }
        },
        "f7e1eb95751040d981610222b78cf0b4": {
          "model_module": "@jupyter-widgets/base",
          "model_module_version": "1.2.0",
          "model_name": "LayoutModel",
          "state": {
            "_model_module": "@jupyter-widgets/base",
            "_model_module_version": "1.2.0",
            "_model_name": "LayoutModel",
            "_view_count": null,
            "_view_module": "@jupyter-widgets/base",
            "_view_module_version": "1.2.0",
            "_view_name": "LayoutView",
            "align_content": null,
            "align_items": null,
            "align_self": null,
            "border": null,
            "bottom": null,
            "display": null,
            "flex": null,
            "flex_flow": null,
            "grid_area": null,
            "grid_auto_columns": null,
            "grid_auto_flow": null,
            "grid_auto_rows": null,
            "grid_column": null,
            "grid_gap": null,
            "grid_row": null,
            "grid_template_areas": null,
            "grid_template_columns": null,
            "grid_template_rows": null,
            "height": null,
            "justify_content": null,
            "justify_items": null,
            "left": null,
            "margin": null,
            "max_height": null,
            "max_width": null,
            "min_height": null,
            "min_width": null,
            "object_fit": null,
            "object_position": null,
            "order": null,
            "overflow": null,
            "overflow_x": null,
            "overflow_y": null,
            "padding": null,
            "right": null,
            "top": null,
            "visibility": null,
            "width": null
          }
        },
        "fb440a440eb94a849ae94c52c37f1fb6": {
          "model_module": "@jupyter-widgets/controls",
          "model_module_version": "1.5.0",
          "model_name": "HTMLModel",
          "state": {
            "_dom_classes": [],
            "_model_module": "@jupyter-widgets/controls",
            "_model_module_version": "1.5.0",
            "_model_name": "HTMLModel",
            "_view_count": null,
            "_view_module": "@jupyter-widgets/controls",
            "_view_module_version": "1.5.0",
            "_view_name": "HTMLView",
            "description": "",
            "description_tooltip": null,
            "layout": "IPY_MODEL_6b70be8fcc9f4028b594d9f3f2c17fc3",
            "placeholder": "​",
            "style": "IPY_MODEL_56af5ee8e989465c85b1dfc9a606b547",
            "value": " 29696/? [00:00&lt;00:00, 302356.76it/s]"
          }
        }
      }
    }
  },
  "nbformat": 4,
  "nbformat_minor": 0
}
